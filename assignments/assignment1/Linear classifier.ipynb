{
 "cells": [
  {
   "cell_type": "markdown",
   "metadata": {},
   "source": [
    "# Задание 1.2 - Линейный классификатор (Linear classifier)\n",
    "\n",
    "В этом задании мы реализуем другую модель машинного обучения - линейный классификатор. Линейный классификатор подбирает для каждого класса веса, на которые нужно умножить значение каждого признака и потом сложить вместе.\n",
    "Тот класс, у которого эта сумма больше, и является предсказанием модели.\n",
    "\n",
    "В этом задании вы:\n",
    "- потренируетесь считать градиенты различных многомерных функций\n",
    "- реализуете подсчет градиентов через линейную модель и функцию потерь softmax\n",
    "- реализуете процесс тренировки линейного классификатора\n",
    "- подберете параметры тренировки на практике\n",
    "\n",
    "На всякий случай, еще раз ссылка на туториал по numpy:  \n",
    "http://cs231n.github.io/python-numpy-tutorial/"
   ]
  },
  {
   "cell_type": "code",
   "execution_count": 1,
   "metadata": {},
   "outputs": [],
   "source": [
    "import numpy as np\n",
    "import matplotlib.pyplot as plt\n",
    "\n",
    "%matplotlib inline\n",
    "\n",
    "%load_ext autoreload\n",
    "%autoreload 2"
   ]
  },
  {
   "cell_type": "code",
   "execution_count": 2,
   "metadata": {},
   "outputs": [],
   "source": [
    "from dataset import load_svhn, random_split_train_val\n",
    "from gradient_check import check_gradient\n",
    "from metrics import multiclass_accuracy \n",
    "import linear_classifer\n",
    "import math"
   ]
  },
  {
   "cell_type": "markdown",
   "metadata": {},
   "source": [
    "# Как всегда, первым делом загружаем данные\n",
    "\n",
    "Мы будем использовать все тот же SVHN."
   ]
  },
  {
   "cell_type": "code",
   "execution_count": 3,
   "metadata": {},
   "outputs": [],
   "source": [
    "def prepare_for_linear_classifier(train_X, test_X):\n",
    "    train_flat = train_X.reshape(train_X.shape[0], -1).astype(np.float) / 255.0\n",
    "    test_flat = test_X.reshape(test_X.shape[0], -1).astype(np.float) / 255.0\n",
    "    \n",
    "    # Subtract mean\n",
    "    mean_image = np.mean(train_flat, axis = 0)\n",
    "    train_flat -= mean_image\n",
    "    test_flat -= mean_image\n",
    "    \n",
    "    # Add another channel with ones as a bias term\n",
    "    train_flat_with_ones = np.hstack([train_flat, np.ones((train_X.shape[0], 1))])\n",
    "    test_flat_with_ones = np.hstack([test_flat, np.ones((test_X.shape[0], 1))])    \n",
    "    return train_flat_with_ones, test_flat_with_ones\n",
    "    \n",
    "train_X, train_y, test_X, test_y = load_svhn(\"data\", max_train=10000, max_test=1000)    \n",
    "train_X, test_X = prepare_for_linear_classifier(train_X, test_X)\n",
    "# Split train into train and val\n",
    "train_X, train_y, val_X, val_y = random_split_train_val(train_X, train_y, num_val = 1000)"
   ]
  },
  {
   "cell_type": "code",
   "execution_count": 472,
   "metadata": {},
   "outputs": [
    {
     "data": {
      "text/plain": [
       "9"
      ]
     },
     "execution_count": 472,
     "metadata": {},
     "output_type": "execute_result"
    }
   ],
   "source": [
    "train_X.shape, train_y.shape\n"
   ]
  },
  {
   "cell_type": "markdown",
   "metadata": {},
   "source": [
    "# Играемся с градиентами!\n",
    "\n",
    "В этом курсе мы будем писать много функций, которые вычисляют градиенты аналитическим методом.\n",
    "\n",
    "Все функции, в которых мы будем вычислять градиенты, будут написаны по одной и той же схеме.  \n",
    "Они будут получать на вход точку, где нужно вычислить значение и градиент функции, а на выходе будут выдавать кортеж (tuple) из двух значений - собственно значения функции в этой точке (всегда одно число) и аналитического значения градиента в той же точке (той же размерности, что и вход).\n",
    "```\n",
    "def f(x):\n",
    "    \"\"\"\n",
    "    Computes function and analytic gradient at x\n",
    "    \n",
    "    x: np array of float, input to the function\n",
    "    \n",
    "    Returns:\n",
    "    value: float, value of the function \n",
    "    grad: np array of float, same shape as x\n",
    "    \"\"\"\n",
    "    ...\n",
    "    \n",
    "    return value, grad\n",
    "```\n",
    "\n",
    "Необходимым инструментом во время реализации кода, вычисляющего градиенты, является функция его проверки. Эта функция вычисляет градиент численным методом и сверяет результат с градиентом, вычисленным аналитическим методом.\n",
    "\n",
    "Мы начнем с того, чтобы реализовать вычисление численного градиента (numeric gradient) в функции `check_gradient` в `gradient_check.py`. Эта функция будет принимать на вход функции формата, заданного выше, использовать значение `value` для вычисления численного градиента и сравнит его с аналитическим - они должны сходиться.\n",
    "\n",
    "Напишите часть функции, которая вычисляет градиент с помощью численной производной для каждой координаты. Для вычисления производной используйте так называемую two-point formula (https://en.wikipedia.org/wiki/Numerical_differentiation):\n",
    "\n",
    "![image](https://wikimedia.org/api/rest_v1/media/math/render/svg/22fc2c0a66c63560a349604f8b6b39221566236d)\n",
    "\n",
    "Все функции приведенные в следующей клетке должны проходить gradient check."
   ]
  },
  {
   "cell_type": "code",
   "execution_count": 167,
   "metadata": {
    "scrolled": true
   },
   "outputs": [
    {
     "name": "stdout",
     "output_type": "stream",
     "text": [
      "compar 6.000000000039306 6.0 [6.] [3.] [1.e-05]\n",
      "Gradient check passed!\n",
      "compar 0.9999999999621422 1.0 [1. 1.] [3. 2.] [1.e-05 0.e+00]\n",
      "compar 0.9999999999621422 1.0 [1. 1.] [3. 2.] [0.e+00 1.e-05]\n",
      "Gradient check passed!\n",
      "compar 0.9999999999621422 1.0 [[1. 1.]\n",
      " [1. 1.]] [[3. 2.]\n",
      " [1. 0.]] [[1.e-05 0.e+00]\n",
      " [0.e+00 0.e+00]]\n",
      "compar 0.9999999999621422 1.0 [[1. 1.]\n",
      " [1. 1.]] [[3. 2.]\n",
      " [1. 0.]] [[0.e+00 1.e-05]\n",
      " [0.e+00 0.e+00]]\n",
      "compar 0.9999999999621422 1.0 [[1. 1.]\n",
      " [1. 1.]] [[3. 2.]\n",
      " [1. 0.]] [[0.e+00 0.e+00]\n",
      " [1.e-05 0.e+00]]\n",
      "compar 0.9999999999621422 1.0 [[1. 1.]\n",
      " [1. 1.]] [[3. 2.]\n",
      " [1. 0.]] [[0.e+00 0.e+00]\n",
      " [0.e+00 1.e-05]]\n",
      "Gradient check passed!\n"
     ]
    },
    {
     "data": {
      "text/plain": [
       "True"
      ]
     },
     "execution_count": 167,
     "metadata": {},
     "output_type": "execute_result"
    }
   ],
   "source": [
    "# TODO: Implement check_gradient function in gradient_check.py\n",
    "# All the functions below should pass the gradient check\n",
    "\n",
    "def square(x):\n",
    "    return float(x*x), 2*x\n",
    "\n",
    "check_gradient(square, np.array([3.0]))\n",
    "\n",
    "def array_sum(x):\n",
    "    assert x.shape == (2,), x.shape\n",
    "    return np.sum(x), np.ones_like(x)\n",
    "\n",
    "check_gradient(array_sum, np.array([3.0, 2.0]))\n",
    "\n",
    "def array_2d_sum(x):\n",
    "    assert x.shape == (2,2)\n",
    "    return np.sum(x), np.ones_like(x)\n",
    "\n",
    "check_gradient(array_2d_sum, np.array([[3.0, 2.0], [1.0, 0.0]]))"
   ]
  },
  {
   "cell_type": "markdown",
   "metadata": {},
   "source": [
    "## Начинаем писать свои функции, считающие аналитический градиент\n",
    "\n",
    "Теперь реализуем функцию softmax, которая получает на вход оценки для каждого класса и преобразует их в вероятности от 0 до 1:\n",
    "![image](https://wikimedia.org/api/rest_v1/media/math/render/svg/e348290cf48ddbb6e9a6ef4e39363568b67c09d3)\n",
    "\n",
    "**Важно:** Практический аспект вычисления этой функции заключается в том, что в ней учавствует вычисление экспоненты от потенциально очень больших чисел - это может привести к очень большим значениям в числителе и знаменателе за пределами диапазона float.\n",
    "\n",
    "К счастью, у этой проблемы есть простое решение -- перед вычислением softmax вычесть из всех оценок максимальное значение среди всех оценок:\n",
    "```\n",
    "predictions -= np.max(predictions)\n",
    "```\n",
    "(подробнее здесь - http://cs231n.github.io/linear-classify/#softmax, секция `Practical issues: Numeric stability`)"
   ]
  },
  {
   "cell_type": "code",
   "execution_count": 234,
   "metadata": {},
   "outputs": [
    {
     "name": "stdout",
     "output_type": "stream",
     "text": [
      "[2.06106005e-09 4.53978686e-05 9.99954600e-01]\n",
      "[1. 0. 0.]\n"
     ]
    }
   ],
   "source": [
    "# TODO Implement softmax and cross-entropy for single sample\n",
    "probs = linear_classifer.softmax(np.array([-10, 0, 10]))\n",
    "\n",
    "# Make sure it works for big numbers too!\n",
    "probs = linear_classifer.softmax(np.array([1000, 0, 0]))\n",
    "assert np.isclose(probs[0], 1.0)"
   ]
  },
  {
   "cell_type": "markdown",
   "metadata": {},
   "source": [
    "Кроме этого, мы реализуем cross-entropy loss, которую мы будем использовать как функцию ошибки (error function).\n",
    "В общем виде cross-entropy определена следующим образом:\n",
    "![image](https://wikimedia.org/api/rest_v1/media/math/render/svg/0cb6da032ab424eefdca0884cd4113fe578f4293)\n",
    "\n",
    "где x - все классы, p(x) - истинная вероятность принадлежности сэмпла классу x, а q(x) - вероятность принадлежности классу x, предсказанная моделью.  \n",
    "В нашем случае сэмпл принадлежит только одному классу, индекс которого передается функции. Для него p(x) равна 1, а для остальных классов - 0. \n",
    "\n",
    "Это позволяет реализовать функцию проще!"
   ]
  },
  {
   "cell_type": "code",
   "execution_count": 144,
   "metadata": {},
   "outputs": [
    {
     "name": "stdout",
     "output_type": "stream",
     "text": [
      "[-1.00067604e+01 -5.00676044e+00 -6.76044355e-03]\n"
     ]
    },
    {
     "data": {
      "text/plain": [
       "15.020281330641362"
      ]
     },
     "execution_count": 144,
     "metadata": {},
     "output_type": "execute_result"
    }
   ],
   "source": [
    "probs = linear_classifer.softmax(np.array([-5, 0, 5]))\n",
    "linear_classifer.cross_entropy_loss(probs, 1)\n"
   ]
  },
  {
   "cell_type": "markdown",
   "metadata": {},
   "source": [
    "После того как мы реализовали сами функции, мы можем реализовать градиент.\n",
    "\n",
    "Оказывается, что вычисление градиента становится гораздо проще, если объединить эти функции в одну, которая сначала вычисляет вероятности через softmax, а потом использует их для вычисления функции ошибки через cross-entropy loss.\n",
    "\n",
    "Эта функция `softmax_with_cross_entropy` будет возвращает и значение ошибки, и градиент по входным параметрам. Мы проверим корректность реализации с помощью `check_gradient`."
   ]
  },
  {
   "cell_type": "code",
   "execution_count": 228,
   "metadata": {},
   "outputs": [
    {
     "name": "stdout",
     "output_type": "stream",
     "text": [
      "predictions [1 0 0] softmax [0.57611688 0.21194156 0.21194156] target [0 1 0] loss 1.551444713932051 grad [ 0.57611688 -0.78805844  0.21194156]\n",
      "1.551444713932051 [ 0.57611688 -0.78805844  0.21194156]\n",
      "predictions [1. 0. 0.] softmax [0.57611688 0.21194156 0.21194156] target [0. 1. 0.] loss 1.551444713932051 grad [ 0.57611688 -0.78805844  0.21194156]\n",
      "predictions [1.00001 0.      0.     ] softmax [0.57611933 0.21194034 0.21194034] target [0. 1. 0.] loss 1.551450475113109 grad [ 0.57611933 -0.78805966  0.21194034]\n",
      "predictions [0.99999 0.      0.     ] softmax [0.57611444 0.21194278 0.21194278] target [0. 1. 0.] loss 1.5514389527754138 grad [ 0.57611444 -0.78805722  0.21194278]\n",
      "compar (0,) 0.5761168847651099 0.5761168847658291 [1.e-05 0.e+00 0.e+00]\n",
      "Gradients are equal at (0,)\n",
      "predictions [1.e+00 1.e-05 0.e+00] softmax [0.57611566 0.21194323 0.21194111] target [0. 1. 0.] loss 1.5514368333559785 grad [ 0.57611566 -0.78805677  0.21194111]\n",
      "predictions [ 1.e+00 -1.e-05  0.e+00] softmax [0.57611811 0.21193989 0.21194201] target [0. 1. 0.] loss 1.5514525945248259 grad [ 0.57611811 -0.78806011  0.21194201]\n",
      "compar (1,) -0.7880584423691771 -0.7880584423829146 [0.e+00 1.e-05 0.e+00]\n",
      "Gradients are equal at (1,)\n",
      "predictions [1.e+00 0.e+00 1.e-05] softmax [0.57611566 0.21194111 0.21194323] target [0. 1. 0.] loss 1.5514468333559783 grad [ 0.57611566 -0.78805889  0.21194323]\n",
      "predictions [ 1.e+00  0.e+00 -1.e-05] softmax [0.57611811 0.21194201 0.21193989] target [0. 1. 0.] loss 1.551442594524826 grad [ 0.57611811 -0.78805799  0.21193989]\n",
      "compar (2,) 0.2119415576151695 0.21194155761708544 [0.e+00 0.e+00 1.e-05]\n",
      "Gradients are equal at (2,)\n",
      "Gradient check passed!\n"
     ]
    },
    {
     "data": {
      "text/plain": [
       "True"
      ]
     },
     "execution_count": 228,
     "metadata": {},
     "output_type": "execute_result"
    }
   ],
   "source": [
    "# TODO Implement combined function or softmax and cross entropy and produces gradient\n",
    "loss, grad = linear_classifer.softmax_with_cross_entropy(np.array([1, 0, 0]), 1)\n",
    "print(loss, grad)\n",
    "check_gradient(lambda x: linear_classifer.softmax_with_cross_entropy(x, 1), np.array([1, 0, 0], np.float))"
   ]
  },
  {
   "cell_type": "markdown",
   "metadata": {},
   "source": [
    "В качестве метода тренировки мы будем использовать стохастический градиентный спуск (stochastic gradient descent или SGD), который работает с батчами сэмплов. \n",
    "\n",
    "Поэтому все наши фукнции будут получать не один пример, а батч, то есть входом будет не вектор из `num_classes` оценок, а матрица размерности `batch_size, num_classes`. Индекс примера в батче всегда будет первым измерением.\n",
    "\n",
    "Следующий шаг - переписать наши функции так, чтобы они поддерживали батчи.\n",
    "\n",
    "Финальное значение функции ошибки должно остаться числом, и оно равно среднему значению ошибки среди всех примеров в батче."
   ]
  },
  {
   "cell_type": "code",
   "execution_count": 529,
   "metadata": {
    "scrolled": false
   },
   "outputs": [
    {
     "name": "stdout",
     "output_type": "stream",
     "text": [
      "[[ 1.  2. -1.  1.]] [[2]]\n",
      "[[ 0.20603191  0.56005279 -0.97211661  0.20603191]] [[ 1.  2. -1.  1.]]\n",
      "Gradients are equal at (0, 0)\n",
      "Gradients are equal at (0, 1)\n",
      "Gradients are equal at (0, 2)\n",
      "Gradients are equal at (0, 3)\n",
      "Gradient check passed!\n",
      "[[ 2. -1. -1.  1.]\n",
      " [ 0.  1.  1.  1.]\n",
      " [ 1.  2. -1.  2.]] [[3]\n",
      " [3]\n",
      " [2]]\n",
      "[[ 0.22715085  0.01130918  0.01130918 -0.2497692 ]\n",
      " [ 0.03641059  0.09897425  0.09897425 -0.23435909]\n",
      " [ 0.05072101  0.13787399 -0.32646899  0.13787399]] [[ 2. -1. -1.  1.]\n",
      " [ 0.  1.  1.  1.]\n",
      " [ 1.  2. -1.  2.]]\n",
      "Gradients are equal at (0, 0)\n",
      "Gradients are equal at (0, 1)\n",
      "Gradients are equal at (0, 2)\n",
      "Gradients are equal at (0, 3)\n",
      "Gradients are equal at (1, 0)\n",
      "Gradients are equal at (1, 1)\n",
      "Gradients are equal at (1, 2)\n",
      "Gradients are equal at (1, 3)\n",
      "Gradients are equal at (2, 0)\n",
      "Gradients are equal at (2, 1)\n",
      "Gradients are equal at (2, 2)\n",
      "Gradients are equal at (2, 3)\n",
      "Gradient check passed!\n"
     ]
    },
    {
     "data": {
      "text/plain": [
       "True"
      ]
     },
     "execution_count": 529,
     "metadata": {},
     "output_type": "execute_result"
    }
   ],
   "source": [
    "# TODO Extend combined function so it can receive a 2d array with batch of samples\n",
    "np.random.seed(42)\n",
    "# Test batch_size = 1\n",
    "num_classes = 4\n",
    "batch_size = 1\n",
    "predictions = np.random.randint(-1, 3, size=(batch_size, num_classes)).astype(np.float)\n",
    "target_index = np.random.randint(0, num_classes, size=(batch_size, 1)).astype(np.int)\n",
    "print(predictions, target_index)\n",
    "check_gradient(lambda x: linear_classifer.softmax_with_cross_entropy(x, target_index), predictions)\n",
    "\n",
    "# Test batch_size = 3\n",
    "num_classes = 4\n",
    "batch_size = 3\n",
    "predictions = np.random.randint(-1, 3, size=(batch_size, num_classes)).astype(np.float).squeeze()\n",
    "target_index = np.random.randint(0, num_classes, size=(batch_size, 1)).astype(np.int)\n",
    "print(predictions, target_index)\n",
    "check_gradient(lambda x: linear_classifer.softmax_with_cross_entropy(x, target_index), predictions)\n",
    "\n"
   ]
  },
  {
   "cell_type": "code",
   "execution_count": 269,
   "metadata": {},
   "outputs": [],
   "source": [
    "# Make sure maximum subtraction for numberic stability is done separately for every sample in the batch\n",
    "probs = linear_classifer.softmax(np.array([[20,0,0], [1000, 0, 0]], dtype=\"float\"))\n",
    "assert np.all(np.isclose(probs[:, 0], 1.0))"
   ]
  },
  {
   "cell_type": "markdown",
   "metadata": {},
   "source": [
    "### Наконец, реализуем сам линейный классификатор!\n",
    "\n",
    "softmax и cross-entropy получают на вход оценки, которые выдает линейный классификатор.\n",
    "\n",
    "Он делает это очень просто: для каждого класса есть набор весов, на которые надо умножить пиксели картинки и сложить. Получившееся число и является оценкой класса, идущей на вход softmax.\n",
    "\n",
    "Таким образом, линейный классификатор можно представить как умножение вектора с пикселями на матрицу W размера `num_features, num_classes`. Такой подход легко расширяется на случай батча векторов с пикселями X размера `batch_size, num_features`:\n",
    "\n",
    "`predictions = X * W`, где `*` - матричное умножение.\n",
    "\n",
    "Реализуйте функцию подсчета линейного классификатора и градиентов по весам `linear_softmax` в файле `linear_classifer.py`"
   ]
  },
  {
   "cell_type": "code",
   "execution_count": 528,
   "metadata": {},
   "outputs": [
    {
     "name": "stdout",
     "output_type": "stream",
     "text": [
      "[[-1. -1.  1.]\n",
      " [ 0.  1.  1.]]\n",
      "\n",
      "[[ 1.  2.]\n",
      " [-1.  1.]\n",
      " [ 1.  2.]]\n",
      "\n",
      "[1 1]\n",
      "loss 1.0877576813083574 dW [[-0.44039854  0.44039854]\n",
      " [-0.4166856   0.4166856 ]\n",
      " [ 0.46411148 -0.46411148]]\n",
      "[[-0.44039854  0.44039854]\n",
      " [-0.4166856   0.4166856 ]\n",
      " [ 0.46411148 -0.46411148]] [[ 1.  2.]\n",
      " [-1.  1.]\n",
      " [ 1.  2.]]\n",
      "Gradients are equal at (0, 0)\n",
      "Gradients are equal at (0, 1)\n",
      "Gradients are equal at (1, 0)\n",
      "Gradients are equal at (1, 1)\n",
      "Gradients are equal at (2, 0)\n",
      "Gradients are equal at (2, 1)\n",
      "Gradient check passed!\n"
     ]
    },
    {
     "data": {
      "text/plain": [
       "True"
      ]
     },
     "execution_count": 528,
     "metadata": {},
     "output_type": "execute_result"
    }
   ],
   "source": [
    "from numpy.linalg import inv\n",
    "# TODO Implement linear_softmax function that uses softmax with cross-entropy for linear classifier\n",
    "batch_size = 2\n",
    "num_classes = 2\n",
    "num_features = 3\n",
    "np.random.seed(42)\n",
    "W = np.random.randint(-1, 3, size=(num_features, num_classes)).astype(np.float)\n",
    "X = np.random.randint(-1, 3, size=(batch_size, num_features)).astype(np.float)\n",
    "target_index = np.ones(batch_size, dtype=np.int)\n",
    "print(X, W, target_index, sep=\"\\n\\n\")\n",
    "loss, dW = linear_classifer.linear_softmax(X, W, target_index)\n",
    "\n",
    "print(\"loss\", loss, \"dW\", dW)\n",
    "check_gradient(lambda w: linear_classifer.linear_softmax(X, w, target_index), W)"
   ]
  },
  {
   "cell_type": "markdown",
   "metadata": {},
   "source": [
    "### И теперь регуляризация\n",
    "\n",
    "Мы будем использовать L2 regularization для весов как часть общей функции ошибки.\n",
    "\n",
    "Напомним, L2 regularization определяется как\n",
    "\n",
    "l2_reg_loss = regularization_strength * sum<sub>ij</sub> W[i, j]<sup>2</sup>\n",
    "\n",
    "Реализуйте функцию для его вычисления и вычисления соотвествующих градиентов."
   ]
  },
  {
   "cell_type": "code",
   "execution_count": 526,
   "metadata": {},
   "outputs": [
    {
     "name": "stdout",
     "output_type": "stream",
     "text": [
      "[[ 0.02  0.04]\n",
      " [-0.02  0.02]\n",
      " [ 0.02  0.04]] [[ 1.  2.]\n",
      " [-1.  1.]\n",
      " [ 1.  2.]]\n",
      "Gradients are equal at (0, 0)\n",
      "Gradients are equal at (0, 1)\n",
      "Gradients are equal at (1, 0)\n",
      "Gradients are equal at (1, 1)\n",
      "Gradients are equal at (2, 0)\n",
      "Gradients are equal at (2, 1)\n",
      "Gradient check passed!\n"
     ]
    },
    {
     "data": {
      "text/plain": [
       "True"
      ]
     },
     "execution_count": 526,
     "metadata": {},
     "output_type": "execute_result"
    }
   ],
   "source": [
    "# TODO Implement l2_regularization function that implements loss for L2 regularization\n",
    "linear_classifer.l2_regularization(W, 0.01)\n",
    "check_gradient(lambda w: linear_classifer.l2_regularization(w, 0.01), W)"
   ]
  },
  {
   "cell_type": "markdown",
   "metadata": {},
   "source": [
    "# Тренировка!"
   ]
  },
  {
   "cell_type": "markdown",
   "metadata": {},
   "source": [
    "Градиенты в порядке, реализуем процесс тренировки!"
   ]
  },
  {
   "cell_type": "code",
   "execution_count": 521,
   "metadata": {
    "scrolled": false
   },
   "outputs": [
    {
     "name": "stdout",
     "output_type": "stream",
     "text": [
      "0.001 0.0001\n",
      "Epoch 0, loss: 2.302753\n",
      "Epoch 1, loss: 2.300651\n",
      "Epoch 2, loss: 2.300163\n",
      "Epoch 3, loss: 2.300168\n",
      "Epoch 4, loss: 2.297813\n",
      "Epoch 5, loss: 2.297042\n",
      "Epoch 6, loss: 2.295482\n",
      "Epoch 7, loss: 2.297792\n",
      "Epoch 8, loss: 2.292672\n",
      "Epoch 9, loss: 2.298440\n"
     ]
    }
   ],
   "source": [
    "# TODO: Implement LinearSoftmaxClassifier.fit function\n",
    "classifier = linear_classifer.LinearSoftmaxClassifier()\n",
    "loss_history = classifier.fit(train_X, train_y, epochs=10, learning_rate=1e-3, batch_size=300, reg=1e-4)"
   ]
  },
  {
   "cell_type": "code",
   "execution_count": 522,
   "metadata": {},
   "outputs": [
    {
     "data": {
      "text/plain": [
       "[<matplotlib.lines.Line2D at 0x7f95f7c0f390>]"
      ]
     },
     "execution_count": 522,
     "metadata": {},
     "output_type": "execute_result"
    },
    {
     "data": {
      "image/png": "[encoded data removed]",
      "text/plain": [
       "<Figure size 432x288 with 1 Axes>"
      ]
     },
     "metadata": {
      "needs_background": "light"
     },
     "output_type": "display_data"
    }
   ],
   "source": [
    "# let's look at the loss history!\n",
    "plt.plot(loss_history)"
   ]
  },
  {
   "cell_type": "code",
   "execution_count": 420,
   "metadata": {},
   "outputs": [
    {
     "name": "stdout",
     "output_type": "stream",
     "text": [
      "Accuracy:  0.1\n"
     ]
    }
   ],
   "source": [
    "# Let's check how it performs on validation set\n",
    "pred = classifier.predict(val_X)\n",
    "#print(pred, val_y)\n",
    "accuracy = multiclass_accuracy(pred, val_y)\n",
    "print(\"Accuracy: \", accuracy)"
   ]
  },
  {
   "cell_type": "code",
   "execution_count": 530,
   "metadata": {},
   "outputs": [
    {
     "name": "stdout",
     "output_type": "stream",
     "text": [
      "0.001 0.0001\n",
      "Epoch 0, loss: 2.301344\n",
      "Epoch 1, loss: 2.300707\n",
      "Epoch 2, loss: 2.301084\n",
      "Epoch 3, loss: 2.298168\n",
      "Epoch 4, loss: 2.300187\n",
      "Epoch 5, loss: 2.299434\n",
      "Epoch 6, loss: 2.297585\n",
      "Epoch 7, loss: 2.294682\n",
      "Epoch 8, loss: 2.291807\n",
      "Epoch 9, loss: 2.290810\n",
      "Epoch 10, loss: 2.292781\n",
      "Epoch 20, loss: 2.284464\n",
      "Epoch 30, loss: 2.286401\n",
      "Epoch 40, loss: 2.268246\n",
      "Epoch 50, loss: 2.260308\n",
      "Epoch 60, loss: 2.271335\n",
      "Epoch 70, loss: 2.251913\n",
      "Epoch 80, loss: 2.250273\n",
      "Epoch 90, loss: 2.247584\n",
      "Accuracy after training for 100 epochs:  0.211\n"
     ]
    }
   ],
   "source": [
    "# Now, let's train more and see if it performs better\n",
    "classifier = linear_classifer.LinearSoftmaxClassifier()\n",
    "classifier.fit(train_X, train_y, epochs=100, learning_rate=1e-3, batch_size=300, reg=1e-4)\n",
    "pred = classifier.predict(val_X)\n",
    "accuracy = multiclass_accuracy(pred, val_y)\n",
    "print(\"Accuracy after training for 100 epochs: \", accuracy)"
   ]
  },
  {
   "cell_type": "markdown",
   "metadata": {},
   "source": [
    "### Как и раньше, используем кросс-валидацию для подбора гиперпараметтов.\n",
    "\n",
    "В этот раз, чтобы тренировка занимала разумное время, мы будем использовать только одно разделение на тренировочные (training) и проверочные (validation) данные.\n",
    "\n",
    "Теперь нам нужно подобрать не один, а два гиперпараметра! Не ограничивайте себя изначальными значениями в коде.  \n",
    "Добейтесь точности более чем **20%** на проверочных данных (validation data)."
   ]
  },
  {
   "cell_type": "code",
   "execution_count": 457,
   "metadata": {},
   "outputs": [
    {
     "name": "stdout",
     "output_type": "stream",
     "text": [
      "Epoch 0, loss: 2.302585, l2_loss 0.000474\n",
      "Epoch 10, loss: 2.302585, l2_loss 0.000714\n",
      "Epoch 20, loss: 2.302585, l2_loss 0.000686\n",
      "Epoch 30, loss: 2.302585, l2_loss 0.000687\n",
      "Epoch 40, loss: 2.302585, l2_loss 0.000693\n",
      "Epoch 50, loss: 2.302585, l2_loss 0.000692\n",
      "Epoch 60, loss: 2.302585, l2_loss 0.000696\n",
      "Epoch 70, loss: 2.302585, l2_loss 0.000700\n",
      "Epoch 80, loss: 2.302585, l2_loss 0.000701\n",
      "Epoch 90, loss: 2.302585, l2_loss 0.000690\n",
      "Accuracy after training for [100, 200] epochs:  0.049 lr 0.001 rs 0.001 bs 10 ne 100\n",
      "Epoch 0, loss: 2.302586, l2_loss 0.000506\n",
      "Epoch 10, loss: 2.302585, l2_loss 0.000684\n",
      "Epoch 20, loss: 2.302585, l2_loss 0.000669\n",
      "Epoch 30, loss: 2.302585, l2_loss 0.000715\n",
      "Epoch 40, loss: 2.302585, l2_loss 0.000698\n",
      "Epoch 50, loss: 2.302585, l2_loss 0.000717\n",
      "Epoch 60, loss: 2.302585, l2_loss 0.000692\n",
      "Epoch 70, loss: 2.302585, l2_loss 0.000686\n",
      "Epoch 80, loss: 2.302585, l2_loss 0.000695\n",
      "Epoch 90, loss: 2.302585, l2_loss 0.000694\n",
      "Epoch 100, loss: 2.302585, l2_loss 0.000691\n",
      "Epoch 110, loss: 2.302585, l2_loss 0.000697\n",
      "Epoch 120, loss: 2.302585, l2_loss 0.000689\n",
      "Epoch 130, loss: 2.302585, l2_loss 0.000692\n",
      "Epoch 140, loss: 2.302585, l2_loss 0.000694\n",
      "Epoch 150, loss: 2.302585, l2_loss 0.000697\n",
      "Epoch 160, loss: 2.302585, l2_loss 0.000679\n",
      "Epoch 170, loss: 2.302585, l2_loss 0.000686\n",
      "Epoch 180, loss: 2.302585, l2_loss 0.000688\n",
      "Epoch 190, loss: 2.302585, l2_loss 0.000700\n",
      "Accuracy after training for [100, 200] epochs:  0.049 lr 0.001 rs 0.001 bs 10 ne 200\n",
      "Epoch 0, loss: 2.302587, l2_loss 0.000205\n",
      "Epoch 10, loss: 2.302585, l2_loss 0.000415\n",
      "Epoch 20, loss: 2.302585, l2_loss 0.000413\n",
      "Epoch 30, loss: 2.302585, l2_loss 0.000414\n",
      "Epoch 40, loss: 2.302585, l2_loss 0.000413\n",
      "Epoch 50, loss: 2.302585, l2_loss 0.000415\n",
      "Epoch 60, loss: 2.302585, l2_loss 0.000414\n",
      "Epoch 70, loss: 2.302585, l2_loss 0.000420\n",
      "Epoch 80, loss: 2.302585, l2_loss 0.000417\n",
      "Epoch 90, loss: 2.302585, l2_loss 0.000420\n",
      "Accuracy after training for [100, 200] epochs:  0.048 lr 0.001 rs 0.001 bs 15 ne 100\n",
      "Epoch 0, loss: 2.302587, l2_loss 0.000215\n",
      "Epoch 10, loss: 2.302585, l2_loss 0.000413\n",
      "Epoch 20, loss: 2.302585, l2_loss 0.000418\n",
      "Epoch 30, loss: 2.302585, l2_loss 0.000415\n",
      "Epoch 40, loss: 2.302585, l2_loss 0.000430\n",
      "Epoch 50, loss: 2.302585, l2_loss 0.000419\n",
      "Epoch 60, loss: 2.302585, l2_loss 0.000412\n",
      "Epoch 70, loss: 2.302585, l2_loss 0.000407\n",
      "Epoch 80, loss: 2.302585, l2_loss 0.000410\n",
      "Epoch 90, loss: 2.302585, l2_loss 0.000418\n",
      "Epoch 100, loss: 2.302585, l2_loss 0.000413\n",
      "Epoch 110, loss: 2.302585, l2_loss 0.000410\n",
      "Epoch 120, loss: 2.302585, l2_loss 0.000408\n",
      "Epoch 130, loss: 2.302585, l2_loss 0.000421\n",
      "Epoch 140, loss: 2.302585, l2_loss 0.000418\n",
      "Epoch 150, loss: 2.302585, l2_loss 0.000414\n",
      "Epoch 160, loss: 2.302585, l2_loss 0.000418\n",
      "Epoch 170, loss: 2.302585, l2_loss 0.000416\n",
      "Epoch 180, loss: 2.302585, l2_loss 0.000415\n",
      "Epoch 190, loss: 2.302585, l2_loss 0.000415\n",
      "Accuracy after training for [100, 200] epochs:  0.049 lr 0.001 rs 0.001 bs 15 ne 200\n",
      "Epoch 0, loss: 2.302587, l2_loss 0.000099\n",
      "Epoch 10, loss: 2.302585, l2_loss 0.000258\n",
      "Epoch 20, loss: 2.302585, l2_loss 0.000261\n",
      "Epoch 30, loss: 2.302585, l2_loss 0.000270\n"
     ]
    },
    {
     "ename": "KeyboardInterrupt",
     "evalue": "",
     "output_type": "error",
     "traceback": [
      "\u001b[0;31m---------------------------------------------------------------------------\u001b[0m",
      "\u001b[0;31mKeyboardInterrupt\u001b[0m                         Traceback (most recent call last)",
      "\u001b[0;32m<ipython-input-457-07c0d0cb0264>\u001b[0m in \u001b[0;36m<module>\u001b[0;34m\u001b[0m\n\u001b[1;32m      9\u001b[0m     \u001b[0;31m# Now, let's train more and see if it performs better\u001b[0m\u001b[0;34m\u001b[0m\u001b[0;34m\u001b[0m\u001b[0;34m\u001b[0m\u001b[0m\n\u001b[1;32m     10\u001b[0m     \u001b[0mclassifier\u001b[0m \u001b[0;34m=\u001b[0m \u001b[0mlinear_classifer\u001b[0m\u001b[0;34m.\u001b[0m\u001b[0mLinearSoftmaxClassifier\u001b[0m\u001b[0;34m(\u001b[0m\u001b[0;34m)\u001b[0m\u001b[0;34m\u001b[0m\u001b[0;34m\u001b[0m\u001b[0m\n\u001b[0;32m---> 11\u001b[0;31m     \u001b[0mclassifier\u001b[0m\u001b[0;34m.\u001b[0m\u001b[0mfit\u001b[0m\u001b[0;34m(\u001b[0m\u001b[0mtrain_X\u001b[0m\u001b[0;34m,\u001b[0m \u001b[0mtrain_y\u001b[0m\u001b[0;34m,\u001b[0m \u001b[0mepochs\u001b[0m\u001b[0;34m=\u001b[0m\u001b[0mne\u001b[0m\u001b[0;34m,\u001b[0m \u001b[0mlearning_rate\u001b[0m\u001b[0;34m=\u001b[0m\u001b[0mlr\u001b[0m\u001b[0;34m,\u001b[0m \u001b[0mbatch_size\u001b[0m\u001b[0;34m=\u001b[0m\u001b[0mbs\u001b[0m\u001b[0;34m,\u001b[0m \u001b[0mreg\u001b[0m\u001b[0;34m=\u001b[0m\u001b[0mrs\u001b[0m\u001b[0;34m)\u001b[0m\u001b[0;34m\u001b[0m\u001b[0;34m\u001b[0m\u001b[0m\n\u001b[0m\u001b[1;32m     12\u001b[0m     \u001b[0mpred\u001b[0m \u001b[0;34m=\u001b[0m \u001b[0mclassifier\u001b[0m\u001b[0;34m.\u001b[0m\u001b[0mpredict\u001b[0m\u001b[0;34m(\u001b[0m\u001b[0mval_X\u001b[0m\u001b[0;34m)\u001b[0m\u001b[0;34m\u001b[0m\u001b[0;34m\u001b[0m\u001b[0m\n\u001b[1;32m     13\u001b[0m     \u001b[0maccuracy\u001b[0m \u001b[0;34m=\u001b[0m \u001b[0mmulticlass_accuracy\u001b[0m\u001b[0;34m(\u001b[0m\u001b[0mpred\u001b[0m\u001b[0;34m,\u001b[0m \u001b[0mval_y\u001b[0m\u001b[0;34m)\u001b[0m\u001b[0;34m\u001b[0m\u001b[0;34m\u001b[0m\u001b[0m\n",
      "\u001b[0;32m~/dlcourse_ai/assignments/assignment1/linear_classifer.py\u001b[0m in \u001b[0;36mfit\u001b[0;34m(self, X, y, batch_size, learning_rate, reg, epochs)\u001b[0m\n\u001b[1;32m    179\u001b[0m                 \u001b[0mtarget_index\u001b[0m \u001b[0;34m=\u001b[0m  \u001b[0my\u001b[0m\u001b[0;34m[\u001b[0m\u001b[0mbatch\u001b[0m\u001b[0;34m]\u001b[0m\u001b[0;34m\u001b[0m\u001b[0;34m\u001b[0m\u001b[0m\n\u001b[1;32m    180\u001b[0m                 \u001b[0;31m#print(xb, target_index)\u001b[0m\u001b[0;34m\u001b[0m\u001b[0;34m\u001b[0m\u001b[0;34m\u001b[0m\u001b[0m\n\u001b[0;32m--> 181\u001b[0;31m                 \u001b[0mloss\u001b[0m\u001b[0;34m,\u001b[0m \u001b[0mdW\u001b[0m \u001b[0;34m=\u001b[0m \u001b[0mlinear_softmax\u001b[0m\u001b[0;34m(\u001b[0m\u001b[0mxb\u001b[0m\u001b[0;34m,\u001b[0m \u001b[0mself\u001b[0m\u001b[0;34m.\u001b[0m\u001b[0mW\u001b[0m\u001b[0;34m,\u001b[0m \u001b[0mtarget_index\u001b[0m\u001b[0;34m)\u001b[0m\u001b[0;34m\u001b[0m\u001b[0;34m\u001b[0m\u001b[0m\n\u001b[0m\u001b[1;32m    182\u001b[0m                 \u001b[0ml2_loss\u001b[0m\u001b[0;34m,\u001b[0m \u001b[0ml2_dW\u001b[0m \u001b[0;34m=\u001b[0m \u001b[0ml2_regularization\u001b[0m\u001b[0;34m(\u001b[0m\u001b[0mself\u001b[0m\u001b[0;34m.\u001b[0m\u001b[0mW\u001b[0m\u001b[0;34m,\u001b[0m \u001b[0mreg\u001b[0m\u001b[0;34m)\u001b[0m\u001b[0;34m\u001b[0m\u001b[0;34m\u001b[0m\u001b[0m\n\u001b[1;32m    183\u001b[0m                 \u001b[0;31m#print(l2_dW)\u001b[0m\u001b[0;34m\u001b[0m\u001b[0;34m\u001b[0m\u001b[0;34m\u001b[0m\u001b[0m\n",
      "\u001b[0;32m~/dlcourse_ai/assignments/assignment1/linear_classifer.py\u001b[0m in \u001b[0;36mlinear_softmax\u001b[0;34m(X, W, target_index)\u001b[0m\n\u001b[1;32m    134\u001b[0m     \u001b[0mpredictions\u001b[0m \u001b[0;34m=\u001b[0m \u001b[0mnp\u001b[0m\u001b[0;34m.\u001b[0m\u001b[0mdot\u001b[0m\u001b[0;34m(\u001b[0m\u001b[0mX\u001b[0m\u001b[0;34m,\u001b[0m \u001b[0mW\u001b[0m\u001b[0;34m)\u001b[0m\u001b[0;34m\u001b[0m\u001b[0;34m\u001b[0m\u001b[0m\n\u001b[1;32m    135\u001b[0m     \u001b[0mloss\u001b[0m\u001b[0;34m,\u001b[0m \u001b[0mdpred\u001b[0m \u001b[0;34m=\u001b[0m \u001b[0msoftmax_with_cross_entropy\u001b[0m\u001b[0;34m(\u001b[0m\u001b[0mpredictions\u001b[0m\u001b[0;34m,\u001b[0m \u001b[0mtarget_index\u001b[0m\u001b[0;34m)\u001b[0m\u001b[0;34m\u001b[0m\u001b[0;34m\u001b[0m\u001b[0m\n\u001b[0;32m--> 136\u001b[0;31m     \u001b[0mdW\u001b[0m \u001b[0;34m=\u001b[0m \u001b[0mnp\u001b[0m\u001b[0;34m.\u001b[0m\u001b[0mdot\u001b[0m\u001b[0;34m(\u001b[0m\u001b[0mX\u001b[0m\u001b[0;34m.\u001b[0m\u001b[0mT\u001b[0m\u001b[0;34m,\u001b[0m \u001b[0mdpred\u001b[0m\u001b[0;34m)\u001b[0m\u001b[0;34m\u001b[0m\u001b[0;34m\u001b[0m\u001b[0m\n\u001b[0m\u001b[1;32m    137\u001b[0m     \u001b[0;31m#print(\"predictions\", predictions, \"dW\", dW)\u001b[0m\u001b[0;34m\u001b[0m\u001b[0;34m\u001b[0m\u001b[0;34m\u001b[0m\u001b[0m\n\u001b[1;32m    138\u001b[0m     \u001b[0;31m# TODO implement prediction and gradient over W\u001b[0m\u001b[0;34m\u001b[0m\u001b[0;34m\u001b[0m\u001b[0;34m\u001b[0m\u001b[0m\n",
      "\u001b[0;31mKeyboardInterrupt\u001b[0m: "
     ]
    }
   ],
   "source": [
    "num_epochs = [100, 200]\n",
    "batch_size = np.arange(10, 200, 5)\n",
    "\n",
    "learning_rates = [1e-4, 1e-5]\n",
    "reg_strengths = [1e-4, 1e-5]\n",
    "\n",
    "import itertools\n",
    "for lr, rs, bs, ne in itertools.product(learning_rates, reg_strengths, batch_size, num_epochs):\n",
    "    # Now, let's train more and see if it performs better\n",
    "    classifier = linear_classifer.LinearSoftmaxClassifier()\n",
    "    classifier.fit(train_X, train_y, epochs=ne, learning_rate=lr, batch_size=bs, reg=rs)\n",
    "    pred = classifier.predict(val_X)\n",
    "    accuracy = multiclass_accuracy(pred, val_y)\n",
    "    print(\"Accuracy after training for\", num_epochs, \"epochs: \", accuracy, \n",
    "          \"lr\", lr, \"rs\", rs, \"bs\", bs, \"ne\", ne)    \n",
    "\n",
    "\n",
    "best_classifier = None\n",
    "# 0.131 lr 0.0001 rs 1e-05 bs 100\n",
    "best_val_accuracy = None\n",
    "\n",
    "# TODO use validation set to find the best hyperparameters\n",
    "# hint: for best results, you might need to try more values for learning rate and regularization strength \n",
    "# than provided initially\n",
    "\n",
    "print('best validation accuracy achieved: %f' % best_val_accuracy)"
   ]
  },
  {
   "cell_type": "code",
   "execution_count": 519,
   "metadata": {},
   "outputs": [
    {
     "name": "stdout",
     "output_type": "stream",
     "text": [
      "0.0001 1e-05\n",
      "Epoch 0, loss: 2.297273\n",
      "0.008935082156277353 -0.004469120300453694 1.787073729046885e-07\n",
      "Epoch 1, loss: 2.313368\n",
      "0.0172824490870285 -0.007695361093819869 3.4545707619410136e-07\n",
      "Epoch 2, loss: 2.276900\n",
      "0.02540685731121432 -0.01082999063356496 5.081533748046863e-07\n",
      "Epoch 3, loss: 2.285909\n",
      "0.03331557559080756 -0.013885283482431168 6.657302540263698e-07\n",
      "Epoch 4, loss: 2.311785\n",
      "0.04100352489011594 -0.01685566377655194 8.196909777512232e-07\n",
      "Epoch 5, loss: 2.310030\n",
      "0.0484893863836556 -0.019746594872452738 9.692165929750336e-07\n",
      "Epoch 6, loss: 2.282952\n",
      "0.05577333898178752 -0.022557603000620433 1.1152961275366038e-06\n",
      "Epoch 7, loss: 2.287400\n",
      "0.0628564066412171 -0.025292412687857587 1.2571634012807882e-06\n",
      "Epoch 8, loss: 2.284538\n",
      "0.06974780915112179 -0.027959518807148014 1.3946010564267616e-06\n",
      "Epoch 9, loss: 2.296889\n",
      "0.07645098539427515 -0.03055393862343432 1.5290682829946755e-06\n",
      "Epoch 10, loss: 2.236445\n",
      "0.08296290026407524 -0.033076861212845546 1.6585132731124973e-06\n",
      "Epoch 20, loss: 2.246192\n",
      "0.1390253232543557 -0.05485148344894329 2.7801920696215333e-06\n",
      "Epoch 30, loss: 2.301257\n",
      "0.18127941749046342 -0.07141561216912269 3.62568954981725e-06\n",
      "Epoch 40, loss: 2.246929\n",
      "0.2130102303364319 -0.08400780721798633 4.260328947950754e-06\n",
      "Epoch 50, loss: 2.284886\n",
      "0.23678861636683762 -0.09359877926699839 4.735714850890291e-06\n",
      "Epoch 60, loss: 2.308453\n",
      "0.25459698222587657 -0.10089663135733731 5.092103574096532e-06\n",
      "Epoch 70, loss: 2.272818\n",
      "0.267910734822106 -0.10644980984030396 5.358566447697926e-06\n",
      "Epoch 80, loss: 2.262198\n",
      "0.27783604793393224 -0.11067954549357094 5.5564934475720375e-06\n",
      "Epoch 90, loss: 2.209394\n",
      "0.2852299872258332 -0.11389273322723452 5.704567172171997e-06\n",
      "Epoch 100, loss: 2.217433\n",
      "0.2907509800498653 -0.11634630734261125 5.815215161779608e-06\n",
      "Epoch 110, loss: 2.252060\n",
      "0.29485705597468226 -0.11820746574359088 5.897109318176124e-06\n",
      "Epoch 120, loss: 2.242513\n",
      "0.29791786589250413 -0.119627655738929 5.958353178235492e-06\n",
      "Epoch 130, loss: 2.222541\n",
      "0.30019259990728586 -0.1207046507795839 6.003847348494563e-06\n",
      "Epoch 140, loss: 2.239059\n",
      "0.3018773310058723 -0.12152752550234407 6.0379073628988685e-06\n",
      "Epoch 150, loss: 2.242166\n",
      "0.30315813925056934 -0.12215662782542222 6.063359272929267e-06\n",
      "Epoch 160, loss: 2.112957\n",
      "0.304127270177498 -0.12263754262886192 6.0821490744716e-06\n",
      "Epoch 170, loss: 2.294289\n",
      "0.30484079581516377 -0.12301319011050615 6.096972101471984e-06\n",
      "Epoch 180, loss: 2.198279\n",
      "0.30535000277745966 -0.12328701292339406 6.107199106179972e-06\n",
      "Epoch 190, loss: 2.161750\n",
      "0.3057496377877213 -0.12349497683291649 6.1151681619148374e-06\n",
      "Accuracy after training for best classifier:  0.231\n"
     ]
    }
   ],
   "source": [
    "# Now, let's train more and see if it performs better\n",
    "classifier = linear_classifer.LinearSoftmaxClassifier()\n",
    "classifier.fit(train_X, train_y, epochs=200, learning_rate=1e-4, batch_size=10, reg=1e-5)\n",
    "pred = classifier.predict(val_X)\n",
    "accuracy = multiclass_accuracy(pred, val_y)\n",
    "print(\"Accuracy after training for best classifier: \", accuracy)"
   ]
  },
  {
   "cell_type": "code",
   "execution_count": 466,
   "metadata": {},
   "outputs": [
    {
     "name": "stdout",
     "output_type": "stream",
     "text": [
      "{'mean_fit_time': array([7.13225238, 9.44757811, 7.48033007, 9.94893368]), 'std_fit_time': array([0.79282444, 0.55636562, 0.23355905, 0.19921442]), 'mean_score_time': array([0.01663423, 0.01519513, 0.01652869, 0.01599813]), 'std_score_time': array([0.00244641, 0.00031274, 0.00153408, 0.00035757]), 'param_alpha': masked_array(data=[0.0001, 0.0001, 1e-05, 1e-05],\n",
      "             mask=[False, False, False, False],\n",
      "       fill_value='?',\n",
      "            dtype=object), 'param_eta0': masked_array(data=[0.0001, 1e-05, 0.0001, 1e-05],\n",
      "             mask=[False, False, False, False],\n",
      "       fill_value='?',\n",
      "            dtype=object), 'param_learning_rate': masked_array(data=['constant', 'constant', 'constant', 'constant'],\n",
      "             mask=[False, False, False, False],\n",
      "       fill_value='?',\n",
      "            dtype=object), 'params': [{'alpha': 0.0001, 'eta0': 0.0001, 'learning_rate': 'constant'}, {'alpha': 0.0001, 'eta0': 1e-05, 'learning_rate': 'constant'}, {'alpha': 1e-05, 'eta0': 0.0001, 'learning_rate': 'constant'}, {'alpha': 1e-05, 'eta0': 1e-05, 'learning_rate': 'constant'}], 'split0_test_score': array([0.25333333, 0.22266667, 0.25766667, 0.222     ]), 'split1_test_score': array([0.241     , 0.235     , 0.24333333, 0.22466667]), 'split2_test_score': array([0.24166667, 0.22433333, 0.24266667, 0.22533333]), 'mean_test_score': array([0.24533333, 0.22733333, 0.24788889, 0.224     ]), 'std_test_score': array([0.0056634 , 0.00546368, 0.00691929, 0.00144016]), 'rank_test_score': array([2, 3, 1, 4], dtype=int32)}\n"
     ]
    }
   ],
   "source": [
    "from sklearn.linear_model import SGDClassifier\n",
    "from sklearn.model_selection import GridSearchCV\n",
    "\n",
    "\n",
    "sgd = SGDClassifier(max_iter=1000, tol=1e-3, penalty='l2', loss=\"squared_hinge\")\n",
    "parameters = {\"eta0\" : [1e-4, 1e-5], \"alpha\" :[1e-4, 1e-5], \"learning_rate\": [\"constant\"]}\n",
    "clf = GridSearchCV(sgd, parameters, cv=3)\n",
    "clf.fit(train_X, train_y)\n",
    "print(clf.cv_results_)\n",
    "\n",
    "#pred = sgd.predict(val_X)\n",
    "#accuracy = multiclass_accuracy(pred, val_y)\n",
    "#print(\"Accuracy after training for SGDClassifier: \", accuracy)"
   ]
  },
  {
   "cell_type": "markdown",
   "metadata": {},
   "source": [
    "# Какой же точности мы добились на тестовых данных?"
   ]
  },
  {
   "cell_type": "code",
   "execution_count": 520,
   "metadata": {},
   "outputs": [
    {
     "name": "stdout",
     "output_type": "stream",
     "text": [
      "Linear softmax classifier test set accuracy: 0.188000\n"
     ]
    }
   ],
   "source": [
    "test_pred = classifier.predict(test_X)\n",
    "test_accuracy = multiclass_accuracy(test_pred, test_y)\n",
    "print('Linear softmax classifier test set accuracy: %f' % (test_accuracy, ))"
   ]
  }
 ],
 "metadata": {
  "kernelspec": {
   "display_name": "Python 3",
   "language": "python",
   "name": "python3"
  },
  "language_info": {
   "codemirror_mode": {
    "name": "ipython",
    "version": 3
   },
   "file_extension": ".py",
   "mimetype": "text/x-python",
   "name": "python",
   "nbconvert_exporter": "python",
   "pygments_lexer": "ipython3",
   "version": "3.7.4"
  }
 },
 "nbformat": 4,
 "nbformat_minor": 2
}
